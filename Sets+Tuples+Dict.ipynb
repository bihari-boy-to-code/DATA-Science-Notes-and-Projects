{
  "nbformat": 4,
  "nbformat_minor": 0,
  "metadata": {
    "colab": {
      "provenance": [],
      "authorship_tag": "ABX9TyN3FEuO+8UV7e72jAJvm2/U",
      "include_colab_link": true
    },
    "kernelspec": {
      "name": "python3",
      "display_name": "Python 3"
    },
    "language_info": {
      "name": "python"
    }
  },
  "cells": [
    {
      "cell_type": "markdown",
      "metadata": {
        "id": "view-in-github",
        "colab_type": "text"
      },
      "source": [
        "<a href=\"https://colab.research.google.com/github/bihari-boy-to-code/DATA-Science-Notes-and-Projects/blob/main/Sets%2BTuples%2BDict.ipynb\" target=\"_parent\"><img src=\"https://colab.research.google.com/assets/colab-badge.svg\" alt=\"Open In Colab\"/></a>"
      ]
    },
    {
      "cell_type": "code",
      "execution_count": null,
      "metadata": {
        "id": "9tjCltdJlgxm"
      },
      "outputs": [],
      "source": [
        "print(\"hello\")"
      ]
    },
    {
      "cell_type": "markdown",
      "source": [
        "**Tuples**"
      ],
      "metadata": {
        "id": "-IqhHPitoHEk"
      }
    },
    {
      "cell_type": "code",
      "source": [
        "## TUPLES is similar to list.tuples are immutable and list is mutable"
      ],
      "metadata": {
        "id": "uBOyCCFYoFvv"
      },
      "execution_count": null,
      "outputs": []
    },
    {
      "cell_type": "code",
      "source": [
        "#creating a tuple\n",
        "t1 = () #empty tuple\n",
        "print(t1)\n",
        "# tuple with single item\n",
        "t2 = (2,)\n",
        "print(t2)\n",
        "#homo\n",
        "t3 = (1,2,3,4)\n",
        "print(t3)\n",
        "#hetro\n",
        "t4 = (1,2,2.4,True,[5,6])\n",
        "print(t4)\n",
        "#tuple 2d\n",
        "t5 = (1,2,3,4,(5,6))\n",
        "print(t5)\n",
        "#using type conversion\n",
        "t6 = tuple('hello')\n",
        "print(t6)"
      ],
      "metadata": {
        "id": "hQJPHLnyoqak",
        "colab": {
          "base_uri": "https://localhost:8080/"
        },
        "outputId": "bd5c3582-95ad-48ca-8766-b8494bd3fa34"
      },
      "execution_count": null,
      "outputs": [
        {
          "output_type": "stream",
          "name": "stdout",
          "text": [
            "()\n",
            "(2,)\n",
            "(1, 2, 3, 4)\n",
            "(1, 2, 2.4, True, [5, 6])\n",
            "(1, 2, 3, 4, (5, 6))\n",
            "('h', 'e', 'l', 'l', 'o')\n"
          ]
        }
      ]
    },
    {
      "cell_type": "code",
      "source": [
        "## ACCESING ITEMS FROM TUPLE.\n",
        "print(t3)\n",
        "print(t3[0])\n",
        "print(t3[-3])\n",
        "\n",
        "print(t3[::-1])"
      ],
      "metadata": {
        "id": "NT_TBvgnoqdR",
        "colab": {
          "base_uri": "https://localhost:8080/"
        },
        "outputId": "3eb7564d-d085-4703-a1c3-da5f5dbff2c9"
      },
      "execution_count": null,
      "outputs": [
        {
          "output_type": "stream",
          "name": "stdout",
          "text": [
            "(1, 2, 3, 4)\n",
            "1\n",
            "2\n",
            "(4, 3, 2, 1)\n"
          ]
        }
      ]
    },
    {
      "cell_type": "code",
      "source": [
        "## EDITING ITEMS\n",
        "t3[0] = 100"
      ],
      "metadata": {
        "id": "77a9B-G8oqfz",
        "colab": {
          "base_uri": "https://localhost:8080/",
          "height": 158
        },
        "outputId": "ac5fec4d-c79f-4b3d-ea40-f375e21832ee"
      },
      "execution_count": null,
      "outputs": [
        {
          "output_type": "error",
          "ename": "TypeError",
          "evalue": "'tuple' object does not support item assignment",
          "traceback": [
            "\u001b[0;31m---------------------------------------------------------------------------\u001b[0m",
            "\u001b[0;31mTypeError\u001b[0m                                 Traceback (most recent call last)",
            "\u001b[0;32m/tmp/ipython-input-594938861.py\u001b[0m in \u001b[0;36m<cell line: 0>\u001b[0;34m()\u001b[0m\n\u001b[1;32m      1\u001b[0m \u001b[0;31m## EDITING ITEMS\u001b[0m\u001b[0;34m\u001b[0m\u001b[0;34m\u001b[0m\u001b[0m\n\u001b[0;32m----> 2\u001b[0;31m \u001b[0mt3\u001b[0m\u001b[0;34m[\u001b[0m\u001b[0;36m0\u001b[0m\u001b[0;34m]\u001b[0m \u001b[0;34m=\u001b[0m \u001b[0;36m100\u001b[0m\u001b[0;34m\u001b[0m\u001b[0;34m\u001b[0m\u001b[0m\n\u001b[0m",
            "\u001b[0;31mTypeError\u001b[0m: 'tuple' object does not support item assignment"
          ]
        }
      ]
    },
    {
      "cell_type": "code",
      "source": [
        "## Adding items\n",
        "print(t3) # not possible"
      ],
      "metadata": {
        "colab": {
          "base_uri": "https://localhost:8080/"
        },
        "id": "Bf-4rX79sOtA",
        "outputId": "ab5f118e-651b-46b0-ac7d-bea1cb61e21a"
      },
      "execution_count": null,
      "outputs": [
        {
          "output_type": "stream",
          "name": "stdout",
          "text": [
            "(1, 2, 3, 4)\n"
          ]
        }
      ]
    },
    {
      "cell_type": "code",
      "source": [
        "# DELETION items\n",
        "t3 = (1,2,3,4)\n",
        "print(t3)\n",
        "del t3\n",
        "print(t3)"
      ],
      "metadata": {
        "colab": {
          "base_uri": "https://localhost:8080/",
          "height": 193
        },
        "id": "TzeQp3vKsOvu",
        "outputId": "7e841e59-c445-4d19-8a1d-268ae6bef6be"
      },
      "execution_count": null,
      "outputs": [
        {
          "output_type": "stream",
          "name": "stdout",
          "text": [
            "(1, 2, 3, 4)\n"
          ]
        },
        {
          "output_type": "error",
          "ename": "NameError",
          "evalue": "name 't3' is not defined",
          "traceback": [
            "\u001b[0;31m---------------------------------------------------------------------------\u001b[0m",
            "\u001b[0;31mNameError\u001b[0m                                 Traceback (most recent call last)",
            "\u001b[0;32m/tmp/ipython-input-3791121609.py\u001b[0m in \u001b[0;36m<cell line: 0>\u001b[0;34m()\u001b[0m\n\u001b[1;32m      3\u001b[0m \u001b[0mprint\u001b[0m\u001b[0;34m(\u001b[0m\u001b[0mt3\u001b[0m\u001b[0;34m)\u001b[0m\u001b[0;34m\u001b[0m\u001b[0;34m\u001b[0m\u001b[0m\n\u001b[1;32m      4\u001b[0m \u001b[0;32mdel\u001b[0m \u001b[0mt3\u001b[0m\u001b[0;34m\u001b[0m\u001b[0;34m\u001b[0m\u001b[0m\n\u001b[0;32m----> 5\u001b[0;31m \u001b[0mprint\u001b[0m\u001b[0;34m(\u001b[0m\u001b[0mt3\u001b[0m\u001b[0;34m)\u001b[0m\u001b[0;34m\u001b[0m\u001b[0;34m\u001b[0m\u001b[0m\n\u001b[0m",
            "\u001b[0;31mNameError\u001b[0m: name 't3' is not defined"
          ]
        }
      ]
    },
    {
      "cell_type": "code",
      "source": [
        "## OPERATION ON TUPLE\n",
        "# + and *\n",
        "# membership\n",
        "# iteration\n",
        "t1 = (1,2,3,4)\n",
        "t2 = (5,6,7,8)\n",
        "print(t1+t2)\n",
        "print(t1*3)\n",
        "\n",
        "#membership\n",
        "1 in t1"
      ],
      "metadata": {
        "colab": {
          "base_uri": "https://localhost:8080/"
        },
        "id": "7XaqHLT9sOyV",
        "outputId": "2b5b0551-e063-4263-c35d-1e0de35151cd"
      },
      "execution_count": null,
      "outputs": [
        {
          "output_type": "stream",
          "name": "stdout",
          "text": [
            "(1, 2, 3, 4, 5, 6, 7, 8)\n",
            "(1, 2, 3, 4, 1, 2, 3, 4, 1, 2, 3, 4)\n"
          ]
        },
        {
          "output_type": "execute_result",
          "data": {
            "text/plain": [
              "True"
            ]
          },
          "metadata": {},
          "execution_count": 22
        }
      ]
    },
    {
      "cell_type": "code",
      "source": [
        "## TUPLE FUNCTIOn\n",
        "\n",
        "t = (1,2,3,4)\n",
        "len(t)\n",
        "\n",
        "sum(t)\n",
        "\n",
        "min(t)\n",
        "\n",
        "max(t)\n",
        "\n",
        "sorted(t)"
      ],
      "metadata": {
        "colab": {
          "base_uri": "https://localhost:8080/"
        },
        "id": "Lr0gtciIsO3Q",
        "outputId": "66a2a328-cb6e-489b-8a66-1271f33383c3"
      },
      "execution_count": null,
      "outputs": [
        {
          "output_type": "execute_result",
          "data": {
            "text/plain": [
              "[1, 2, 3, 4]"
            ]
          },
          "metadata": {},
          "execution_count": 25
        }
      ]
    },
    {
      "cell_type": "code",
      "source": [
        "# Count\n",
        "t = (1,2,3,4,5,1)\n",
        "t.count(1)"
      ],
      "metadata": {
        "colab": {
          "base_uri": "https://localhost:8080/"
        },
        "id": "pdGOEMAQsO55",
        "outputId": "f939cd0a-c2d2-45af-daa6-0b3bc391eb29"
      },
      "execution_count": null,
      "outputs": [
        {
          "output_type": "execute_result",
          "data": {
            "text/plain": [
              "2"
            ]
          },
          "metadata": {},
          "execution_count": 26
        }
      ]
    },
    {
      "cell_type": "code",
      "source": [
        "#index\n",
        "\n",
        "t = (1,2,3,4,5,1)\n",
        "t.index(1)"
      ],
      "metadata": {
        "colab": {
          "base_uri": "https://localhost:8080/"
        },
        "id": "74o2NTjisO9U",
        "outputId": "95472afd-6d42-4efd-8d12-bf833f06bc53"
      },
      "execution_count": null,
      "outputs": [
        {
          "output_type": "execute_result",
          "data": {
            "text/plain": [
              "0"
            ]
          },
          "metadata": {},
          "execution_count": 27
        }
      ]
    },
    {
      "cell_type": "code",
      "source": [
        "# special syntax/tuple unpacking"
      ],
      "metadata": {
        "id": "2rl0vqZnoqil"
      },
      "execution_count": null,
      "outputs": []
    },
    {
      "cell_type": "code",
      "source": [
        "# typle unpacking\n",
        "a,b,c = (1,2,3)\n",
        "print(a,b,c)"
      ],
      "metadata": {
        "id": "D7IXq-b7oqlR",
        "colab": {
          "base_uri": "https://localhost:8080/"
        },
        "outputId": "d2c223b8-fb7f-49f3-bc7f-857fb181da53"
      },
      "execution_count": null,
      "outputs": [
        {
          "output_type": "stream",
          "name": "stdout",
          "text": [
            "1 2 3\n",
            "3\n"
          ]
        }
      ]
    },
    {
      "cell_type": "code",
      "source": [
        "a = 1\n",
        "b = 2\n",
        "a,b = b,a\n",
        "print(a,b)"
      ],
      "metadata": {
        "id": "LCVe5psvoqo4",
        "colab": {
          "base_uri": "https://localhost:8080/"
        },
        "outputId": "8a98ed25-ad38-4656-df3d-91ae2dc446a3"
      },
      "execution_count": null,
      "outputs": [
        {
          "output_type": "stream",
          "name": "stdout",
          "text": [
            "2 1\n"
          ]
        }
      ]
    },
    {
      "cell_type": "code",
      "source": [
        "# ZIP() tuples\n",
        "a = (1,2,3,4)\n",
        "b = (5,6,7,8)\n",
        "list(zip(a,b))"
      ],
      "metadata": {
        "colab": {
          "base_uri": "https://localhost:8080/"
        },
        "id": "JSqcS0dgwdFy",
        "outputId": "ea938b00-55ec-4828-c21b-880176ec938f"
      },
      "execution_count": null,
      "outputs": [
        {
          "output_type": "execute_result",
          "data": {
            "text/plain": [
              "[(1, 5), (2, 6), (3, 7), (4, 8)]"
            ]
          },
          "metadata": {},
          "execution_count": 40
        }
      ]
    },
    {
      "cell_type": "markdown",
      "source": [
        "**SETS**"
      ],
      "metadata": {
        "id": "IjxdLosRwr0J"
      }
    },
    {
      "cell_type": "code",
      "source": [
        "# A sets is an unorderd collection of items.every items is unique and must be\n",
        "# immutBLE. HOWever, a set itself is mutable."
      ],
      "metadata": {
        "id": "m_aMGWu6woyM"
      },
      "execution_count": null,
      "outputs": []
    },
    {
      "cell_type": "code",
      "source": [
        "# CREATING A SETS\n",
        "# empty sets\n",
        "s = set()\n",
        "print(s)\n",
        "#1D and 2D\n",
        "s1 = {1,2,3}\n",
        "print(s1)\n",
        "s2 = {1,2,3,(4,5)} #2D set\n",
        "print(s2)\n",
        "# homo and hetro\n",
        "s3 = {1,2,3,4.5,True,\"hello\",1} #NO duplicates..thats why true is not printed cuz true==1\n",
        "print(s3)\n",
        "# USING type conversiton\n",
        "s4 = set([1,2,34])\n",
        "print(s4)"
      ],
      "metadata": {
        "colab": {
          "base_uri": "https://localhost:8080/"
        },
        "id": "lubx4vjbwo0Z",
        "outputId": "55d4af61-fbc2-42cd-ead3-c5ac874030e8"
      },
      "execution_count": null,
      "outputs": [
        {
          "output_type": "stream",
          "name": "stdout",
          "text": [
            "set()\n",
            "{1, 2, 3}\n",
            "{3, 1, (4, 5), 2}\n",
            "{1, 2, 3, 4.5, 'hello'}\n",
            "{1, 2, 34}\n"
          ]
        }
      ]
    },
    {
      "cell_type": "code",
      "source": [
        "## ACCESSING ITEMS\n",
        "s1 = {1,2,3,4}\n"
      ],
      "metadata": {
        "colab": {
          "base_uri": "https://localhost:8080/",
          "height": 176
        },
        "id": "CRstPoIZwo3p",
        "outputId": "70643c1c-0687-4bb3-d93d-8e9655cf2519"
      },
      "execution_count": null,
      "outputs": [
        {
          "output_type": "error",
          "ename": "TypeError",
          "evalue": "'set' object is not subscriptable",
          "traceback": [
            "\u001b[0;31m---------------------------------------------------------------------------\u001b[0m",
            "\u001b[0;31mTypeError\u001b[0m                                 Traceback (most recent call last)",
            "\u001b[0;32m/tmp/ipython-input-839384328.py\u001b[0m in \u001b[0;36m<cell line: 0>\u001b[0;34m()\u001b[0m\n\u001b[1;32m      1\u001b[0m \u001b[0;31m## ACCESSING ITEMS\u001b[0m\u001b[0;34m\u001b[0m\u001b[0;34m\u001b[0m\u001b[0m\n\u001b[1;32m      2\u001b[0m \u001b[0ms1\u001b[0m \u001b[0;34m=\u001b[0m \u001b[0;34m{\u001b[0m\u001b[0;36m1\u001b[0m\u001b[0;34m,\u001b[0m\u001b[0;36m2\u001b[0m\u001b[0;34m,\u001b[0m\u001b[0;36m3\u001b[0m\u001b[0;34m,\u001b[0m\u001b[0;36m4\u001b[0m\u001b[0;34m}\u001b[0m\u001b[0;34m\u001b[0m\u001b[0;34m\u001b[0m\u001b[0m\n\u001b[0;32m----> 3\u001b[0;31m \u001b[0ms1\u001b[0m\u001b[0;34m[\u001b[0m\u001b[0;36m0\u001b[0m\u001b[0;34m]\u001b[0m\u001b[0;34m\u001b[0m\u001b[0;34m\u001b[0m\u001b[0m\n\u001b[0m",
            "\u001b[0;31mTypeError\u001b[0m: 'set' object is not subscriptable"
          ]
        }
      ]
    },
    {
      "cell_type": "code",
      "source": [
        "##Editing items\n",
        "s1 = {1,2,3,4}\n",
        "s1[0] = 500"
      ],
      "metadata": {
        "colab": {
          "base_uri": "https://localhost:8080/",
          "height": 176
        },
        "id": "knLY_qc7wo5O",
        "outputId": "db6cf918-1066-479f-d31f-b6d6c5219fc7"
      },
      "execution_count": null,
      "outputs": [
        {
          "output_type": "error",
          "ename": "TypeError",
          "evalue": "'set' object does not support item assignment",
          "traceback": [
            "\u001b[0;31m---------------------------------------------------------------------------\u001b[0m",
            "\u001b[0;31mTypeError\u001b[0m                                 Traceback (most recent call last)",
            "\u001b[0;32m/tmp/ipython-input-1445578760.py\u001b[0m in \u001b[0;36m<cell line: 0>\u001b[0;34m()\u001b[0m\n\u001b[1;32m      1\u001b[0m \u001b[0;31m##Editing items\u001b[0m\u001b[0;34m\u001b[0m\u001b[0;34m\u001b[0m\u001b[0m\n\u001b[1;32m      2\u001b[0m \u001b[0ms1\u001b[0m \u001b[0;34m=\u001b[0m \u001b[0;34m{\u001b[0m\u001b[0;36m1\u001b[0m\u001b[0;34m,\u001b[0m\u001b[0;36m2\u001b[0m\u001b[0;34m,\u001b[0m\u001b[0;36m3\u001b[0m\u001b[0;34m,\u001b[0m\u001b[0;36m4\u001b[0m\u001b[0;34m}\u001b[0m\u001b[0;34m\u001b[0m\u001b[0;34m\u001b[0m\u001b[0m\n\u001b[0;32m----> 3\u001b[0;31m \u001b[0ms1\u001b[0m\u001b[0;34m[\u001b[0m\u001b[0;36m0\u001b[0m\u001b[0;34m]\u001b[0m \u001b[0;34m=\u001b[0m \u001b[0;36m500\u001b[0m\u001b[0;34m\u001b[0m\u001b[0;34m\u001b[0m\u001b[0m\n\u001b[0m",
            "\u001b[0;31mTypeError\u001b[0m: 'set' object does not support item assignment"
          ]
        }
      ]
    },
    {
      "cell_type": "code",
      "source": [
        "## Adding items\n",
        "s = {1,2,3,4}\n",
        "# s.add(5)\n",
        "# print(s) #update\n",
        "s.update([5,6,7])\n",
        "print(s)"
      ],
      "metadata": {
        "colab": {
          "base_uri": "https://localhost:8080/"
        },
        "id": "jw7ke6mOwo8i",
        "outputId": "60de13e3-296f-417e-bd68-6877093d6760"
      },
      "execution_count": null,
      "outputs": [
        {
          "output_type": "stream",
          "name": "stdout",
          "text": [
            "{1, 2, 3, 4, 5, 6, 7}\n"
          ]
        }
      ]
    },
    {
      "cell_type": "code",
      "source": [
        "# DELETING items"
      ],
      "metadata": {
        "id": "hWosQc7xwpFK"
      },
      "execution_count": null,
      "outputs": []
    },
    {
      "cell_type": "code",
      "source": [
        "s = {1,2,3,4}\n",
        "# print(s)\n",
        "# del s\n",
        "# print(s)\n",
        "#discard\n",
        "# s.discard(5)\n",
        "# print(s)\n",
        "#remove\n",
        "# s.remove(3)\n",
        "# print(s)\n",
        "#pop\n",
        "# s.pop()/\n",
        "#clear\n",
        "s.clear()\n",
        "print(s)"
      ],
      "metadata": {
        "colab": {
          "base_uri": "https://localhost:8080/"
        },
        "id": "62WZWYOX0S-B",
        "outputId": "efb5352d-90ff-4676-e68a-49dc5addc5fc"
      },
      "execution_count": null,
      "outputs": [
        {
          "output_type": "stream",
          "name": "stdout",
          "text": [
            "set()\n"
          ]
        }
      ]
    },
    {
      "cell_type": "code",
      "source": [
        "# SET OPERATION\n",
        "s1 = {1,2,3,4,5}\n",
        "s2 = {4,5,6,7,8}\n",
        "#union\n",
        "print(s1|s2)\n",
        "#intersection\n",
        "s1 & s2\n",
        "#difference (-)\n",
        "s1 - s2\n",
        "#Symmetric difference(^)\n",
        "s1 ^ s2\n",
        "# Membership test\n",
        "1 in s1\n",
        "# iteration\n",
        "for i in s1:\n",
        "  print(i)"
      ],
      "metadata": {
        "colab": {
          "base_uri": "https://localhost:8080/"
        },
        "id": "Kr1MSFkb0TAf",
        "outputId": "d0e9b782-8c38-46ba-8479-a9208eb755da"
      },
      "execution_count": null,
      "outputs": [
        {
          "output_type": "stream",
          "name": "stdout",
          "text": [
            "{1, 2, 3, 4, 5, 6, 7, 8}\n",
            "1\n",
            "2\n",
            "3\n",
            "4\n",
            "5\n"
          ]
        }
      ]
    },
    {
      "cell_type": "code",
      "source": [
        "## SET FUNCTION"
      ],
      "metadata": {
        "id": "TqFR3rEO0_PL"
      },
      "execution_count": null,
      "outputs": []
    },
    {
      "cell_type": "code",
      "source": [
        "s = {1,2,3,4,5}\n",
        "len(s)\n",
        "sum(s)\n",
        "min(s)\n",
        "max(s)\n",
        "sorted(s)"
      ],
      "metadata": {
        "colab": {
          "base_uri": "https://localhost:8080/"
        },
        "id": "Mi_wR6Tb0_SG",
        "outputId": "e5411ad4-0014-43f0-a302-021f36f3b4e0"
      },
      "execution_count": null,
      "outputs": [
        {
          "output_type": "execute_result",
          "data": {
            "text/plain": [
              "[1, 2, 3, 4, 5]"
            ]
          },
          "metadata": {},
          "execution_count": 69
        }
      ]
    },
    {
      "cell_type": "code",
      "source": [
        "# union/update\n",
        "s1 = {1,2,3,4,5}\n",
        "s2 = {4,5,6,7,8}\n",
        "\n",
        "#s1|s2\n",
        "s1.union(s2)\n",
        "\n",
        "s1.update(s2)\n",
        "print(s1)\n",
        "print(s2)"
      ],
      "metadata": {
        "colab": {
          "base_uri": "https://localhost:8080/"
        },
        "id": "ShieYZGt0_U2",
        "outputId": "19aa7b5f-9055-4990-963a-06fc2724aaaf"
      },
      "execution_count": null,
      "outputs": [
        {
          "output_type": "stream",
          "name": "stdout",
          "text": [
            "{1, 2, 3, 4, 5, 6, 7, 8}\n",
            "{4, 5, 6, 7, 8}\n"
          ]
        }
      ]
    },
    {
      "cell_type": "code",
      "source": [
        "## INTERSECTION update\n",
        "s1 = {1,2,3,4,5}\n",
        "s2 = {4,5,6,7,8}\n",
        "\n",
        "s1.intersection_update(s2)\n",
        "print(s1)\n",
        "print(s2)"
      ],
      "metadata": {
        "colab": {
          "base_uri": "https://localhost:8080/"
        },
        "id": "B4kOO0ZG0_Xv",
        "outputId": "23c916f4-2d68-4045-f2c9-2dec8888c1a5"
      },
      "execution_count": null,
      "outputs": [
        {
          "output_type": "stream",
          "name": "stdout",
          "text": [
            "{4, 5}\n",
            "{4, 5, 6, 7, 8}\n"
          ]
        }
      ]
    },
    {
      "cell_type": "code",
      "source": [
        "### SET FROZENSET(Immutable set)\n",
        "fs1 = frozenset([1,2,3,4])\n",
        "fs2 = frozenset([4,5,6,7 ])\n",
        "fs1 | fs2\n",
        "\n",
        "# 2d DORZENSET\n",
        "fs = frozenset([1,2,3,4,(5,6)])\n",
        "print(fs)"
      ],
      "metadata": {
        "colab": {
          "base_uri": "https://localhost:8080/"
        },
        "id": "MMTQ3LU30_bG",
        "outputId": "998397bd-6bcd-4c25-ca60-2c9e68a572af"
      },
      "execution_count": null,
      "outputs": [
        {
          "output_type": "stream",
          "name": "stdout",
          "text": [
            "frozenset({1, 2, 3, 4, (5, 6)})\n"
          ]
        }
      ]
    },
    {
      "cell_type": "code",
      "source": [
        "## set comprehension\n",
        "{i for i in  range(1,11)}"
      ],
      "metadata": {
        "colab": {
          "base_uri": "https://localhost:8080/"
        },
        "id": "SiGBKgJg0TDR",
        "outputId": "f7126206-5aed-4614-cffd-8e034674eca4"
      },
      "execution_count": null,
      "outputs": [
        {
          "output_type": "execute_result",
          "data": {
            "text/plain": [
              "{1, 2, 3, 4, 5, 6, 7, 8, 9, 10}"
            ]
          },
          "metadata": {},
          "execution_count": 79
        }
      ]
    },
    {
      "cell_type": "markdown",
      "source": [
        "**Dictionary**"
      ],
      "metadata": {
        "id": "16GM7ud_-hi_"
      }
    },
    {
      "cell_type": "code",
      "source": [
        "### Dict in python is a collection of keys and values, used to store data values like a map, which, unlike other data types which hold only a single value as an element"
      ],
      "metadata": {
        "id": "rASgAUgr0THy"
      },
      "execution_count": 1,
      "outputs": []
    },
    {
      "cell_type": "code",
      "source": [
        "# CREATE empty dict\n",
        "a = {}\n",
        "a\n",
        "#1D dict\n",
        "a1 = {'name':'jojo', 'gender': 'male'}\n",
        "a1\n",
        "#with mixed keys\n",
        "b1 = {(1,2,3):1,'hello':'world'}\n",
        "b1\n",
        "#2D dict\n",
        "c1 = {\n",
        "    'name' : 'jojo',\n",
        "    'colleg' : 'bit',\n",
        "    'sem' : 4,\n",
        "    'subj' :{\n",
        "        'DSA' :50,\n",
        "        'maths' :60,\n",
        "        'english' :30\n",
        "        }\n",
        "}\n",
        "c1\n",
        "# Sequnce and dict function.\n",
        "d1 = dict([('a',1),('b',2)])\n",
        "d1\n",
        "# duplicate key\n",
        "e1 = {'name' : 'jojo', 'name': 'jake'}\n",
        "e1\n",
        "# mutable items as keys\n",
        "f1 = {(1,2,3) : 'hello'}\n",
        "f1\n",
        "\n"
      ],
      "metadata": {
        "colab": {
          "base_uri": "https://localhost:8080/"
        },
        "id": "ciKUk2xtJ1t8",
        "outputId": "81e9e512-87d7-43be-a297-ff8f27e0bcb7"
      },
      "execution_count": 13,
      "outputs": [
        {
          "output_type": "execute_result",
          "data": {
            "text/plain": [
              "{(1, 2, 3): 'hello'}"
            ]
          },
          "metadata": {},
          "execution_count": 13
        }
      ]
    },
    {
      "cell_type": "code",
      "source": [
        "## ACCESSING ITEMS\n",
        "my_dict = {'name': 'jake', 'age':25}\n",
        "my_dict\n",
        "#[]\n",
        "my_dict['age']\n",
        "#get\n",
        "my_dict.get(\"name\")"
      ],
      "metadata": {
        "colab": {
          "base_uri": "https://localhost:8080/",
          "height": 36
        },
        "id": "CquMaVyVKYO4",
        "outputId": "5503de3b-210a-462f-c9ad-7b2f8d176d87"
      },
      "execution_count": 18,
      "outputs": [
        {
          "output_type": "execute_result",
          "data": {
            "text/plain": [
              "'jake'"
            ],
            "application/vnd.google.colaboratory.intrinsic+json": {
              "type": "string"
            }
          },
          "metadata": {},
          "execution_count": 18
        }
      ]
    },
    {
      "cell_type": "code",
      "source": [
        "## Adding key-value pair\n",
        "d1['gender'] = 'male'\n",
        "d1\n",
        "d1['name'] = 'jake'\n",
        "d1"
      ],
      "metadata": {
        "colab": {
          "base_uri": "https://localhost:8080/"
        },
        "id": "y4a77HR1NRML",
        "outputId": "59f030e9-ecf1-437c-9b8a-069faaa4f5be"
      },
      "execution_count": 21,
      "outputs": [
        {
          "output_type": "execute_result",
          "data": {
            "text/plain": [
              "{'a': 1, 'b': 2, 'gender': 'male', 'name': 'jake'}"
            ]
          },
          "metadata": {},
          "execution_count": 21
        }
      ]
    },
    {
      "cell_type": "code",
      "source": [
        "# REMOVING KEY VALUE PAIR\n",
        "#pop\n",
        "# d1.pop('gender')\n",
        "# d1\n",
        "#popitem\n",
        "# d1.popitem()\n",
        "# d1\n",
        "#clear\n",
        "d1.clear()\n",
        "d1\n",
        "#del\n"
      ],
      "metadata": {
        "colab": {
          "base_uri": "https://localhost:8080/"
        },
        "id": "qvXJtkyDNqhy",
        "outputId": "dc314bfd-02ba-460c-b885-23f2d7d2aa63"
      },
      "execution_count": 29,
      "outputs": [
        {
          "output_type": "execute_result",
          "data": {
            "text/plain": [
              "{}"
            ]
          },
          "metadata": {},
          "execution_count": 29
        }
      ]
    },
    {
      "cell_type": "code",
      "source": [
        "c1['subj']['DSA'] = '90'\n",
        "c1"
      ],
      "metadata": {
        "colab": {
          "base_uri": "https://localhost:8080/"
        },
        "id": "fa4wOXkJOS5r",
        "outputId": "49e0dfaf-56df-4124-82f3-7b8c026d102a"
      },
      "execution_count": 33,
      "outputs": [
        {
          "output_type": "execute_result",
          "data": {
            "text/plain": [
              "{'name': 'jojo',\n",
              " 'colleg': 'bit',\n",
              " 'sem': 4,\n",
              " 'subj': {'DSA': '90', 'maths': 60, 'english': 30}}"
            ]
          },
          "metadata": {},
          "execution_count": 33
        }
      ]
    },
    {
      "cell_type": "code",
      "source": [
        "## EDITING KEY_VALUE PAIR"
      ],
      "metadata": {
        "id": "LjQuP77WOEoz"
      },
      "execution_count": 34,
      "outputs": []
    },
    {
      "cell_type": "code",
      "source": [
        "c1['sem'] = 5\n",
        "c1\n",
        "c1['maths'] = 100\n",
        "c1"
      ],
      "metadata": {
        "colab": {
          "base_uri": "https://localhost:8080/"
        },
        "id": "_0mtGnPwPJOt",
        "outputId": "667633bf-022c-41b4-ed61-a7d3ecfb406a"
      },
      "execution_count": 37,
      "outputs": [
        {
          "output_type": "execute_result",
          "data": {
            "text/plain": [
              "{'name': 'jojo',\n",
              " 'colleg': 'bit',\n",
              " 'sem': 5,\n",
              " 'subj': {'DSA': '90', 'maths': 60, 'english': 30},\n",
              " 'maths': 100}"
            ]
          },
          "metadata": {},
          "execution_count": 37
        }
      ]
    },
    {
      "cell_type": "code",
      "source": [
        "## DICT Operations\n",
        "# Membership\n",
        "#iteration"
      ],
      "metadata": {
        "id": "78IzAQgyPJRz"
      },
      "execution_count": 37,
      "outputs": []
    },
    {
      "cell_type": "code",
      "source": [
        "print(c1)\n",
        "'name' in c1"
      ],
      "metadata": {
        "colab": {
          "base_uri": "https://localhost:8080/"
        },
        "id": "Vm0u5-R7PJU-",
        "outputId": "013b2fc8-4c31-41dd-dc0a-c0a79a0989ce"
      },
      "execution_count": 40,
      "outputs": [
        {
          "output_type": "stream",
          "name": "stdout",
          "text": [
            "{'name': 'jojo', 'colleg': 'bit', 'sem': 5, 'subj': {'DSA': '90', 'maths': 60, 'english': 30}, 'maths': 100}\n"
          ]
        },
        {
          "output_type": "execute_result",
          "data": {
            "text/plain": [
              "True"
            ]
          },
          "metadata": {},
          "execution_count": 40
        }
      ]
    },
    {
      "cell_type": "code",
      "source": [
        "d = {\n",
        "    'name' : 'jojo',\n",
        "    'gender' : 'male',\n",
        "    'age' : 33\n",
        "}\n",
        "for i in d:\n",
        "  print(i,d[i])"
      ],
      "metadata": {
        "colab": {
          "base_uri": "https://localhost:8080/"
        },
        "id": "RcrMUnXYPJYo",
        "outputId": "a41e4f89-9d53-49c2-ca47-8830ed860315"
      },
      "execution_count": 42,
      "outputs": [
        {
          "output_type": "stream",
          "name": "stdout",
          "text": [
            "name jojo\n",
            "gender male\n",
            "age 33\n"
          ]
        }
      ]
    },
    {
      "cell_type": "code",
      "source": [
        "## DICTIONARY FUNCTION\n",
        "#len/sorted\n",
        "len(d)\n",
        "print(d)\n",
        "sorted(d)"
      ],
      "metadata": {
        "colab": {
          "base_uri": "https://localhost:8080/"
        },
        "id": "LxcNGtVhPJbq",
        "outputId": "f537ea20-6012-45f3-86ef-758d83a41b82"
      },
      "execution_count": 48,
      "outputs": [
        {
          "output_type": "stream",
          "name": "stdout",
          "text": [
            "{'name': 'jojo', 'gender': 'male', 'age': 33}\n"
          ]
        },
        {
          "output_type": "execute_result",
          "data": {
            "text/plain": [
              "['age', 'gender', 'name']"
            ]
          },
          "metadata": {},
          "execution_count": 48
        }
      ]
    },
    {
      "cell_type": "code",
      "source": [
        "#items/keys/Values\n",
        "print(d)\n",
        "\n",
        "print(d.items())\n",
        "print(d.keys())\n",
        "print(d.values())"
      ],
      "metadata": {
        "colab": {
          "base_uri": "https://localhost:8080/"
        },
        "id": "s9i7eCOwPJd-",
        "outputId": "f4ad0a26-b8ab-43e6-bc16-81557be82aa9"
      },
      "execution_count": 50,
      "outputs": [
        {
          "output_type": "stream",
          "name": "stdout",
          "text": [
            "{'name': 'jojo', 'gender': 'male', 'age': 33}\n",
            "dict_items([('name', 'jojo'), ('gender', 'male'), ('age', 33)])\n",
            "dict_keys(['name', 'gender', 'age'])\n",
            "dict_values(['jojo', 'male', 33])\n"
          ]
        }
      ]
    },
    {
      "cell_type": "code",
      "source": [
        "#update\n",
        "d1 = {1:2,3:4,4:5}\n",
        "d2 = {4:7,6:8}\n",
        "d1.update(d2)\n",
        "print(d1)"
      ],
      "metadata": {
        "colab": {
          "base_uri": "https://localhost:8080/"
        },
        "id": "DUEgiiR1PJhG",
        "outputId": "2f95d994-aeb0-4a7f-e25f-d2b0a289f438"
      },
      "execution_count": 51,
      "outputs": [
        {
          "output_type": "stream",
          "name": "stdout",
          "text": [
            "{1: 2, 3: 4, 4: 7, 6: 8}\n"
          ]
        }
      ]
    },
    {
      "cell_type": "code",
      "source": [
        "## DICTIONARY comprehension\n",
        "#{key:value for vars in iterable}\n"
      ],
      "metadata": {
        "id": "YJwE8VALRDGg"
      },
      "execution_count": null,
      "outputs": []
    },
    {
      "cell_type": "code",
      "source": [
        "#print 1st 10 numbers and thier squares\n",
        "{i:i**2 for i in range(1,11)}"
      ],
      "metadata": {
        "colab": {
          "base_uri": "https://localhost:8080/"
        },
        "id": "zvqngSXDRT8G",
        "outputId": "acb5cf29-f823-4578-c3c4-ce1bf0d57e44"
      },
      "execution_count": 52,
      "outputs": [
        {
          "output_type": "stream",
          "name": "stdout",
          "text": [
            "1 1\n",
            "2 4\n",
            "3 9\n",
            "4 16\n",
            "5 25\n",
            "6 36\n",
            "7 49\n",
            "8 64\n",
            "9 81\n",
            "10 100\n"
          ]
        }
      ]
    },
    {
      "cell_type": "code",
      "source": [
        "# usig existing dict\n",
        "distances = {'delhi':1000,'mumbai':1500,'bangalore':2300}\n",
        "{key:value*0.62 for(key,value) in distances.items()}"
      ],
      "metadata": {
        "colab": {
          "base_uri": "https://localhost:8080/"
        },
        "id": "oaoxtooDRT4r",
        "outputId": "dc28c879-dbcc-4683-9bc5-187c1f4a90b2"
      },
      "execution_count": 55,
      "outputs": [
        {
          "output_type": "execute_result",
          "data": {
            "text/plain": [
              "{'delhi': 620.0, 'mumbai': 930.0, 'bangalore': 1426.0}"
            ]
          },
          "metadata": {},
          "execution_count": 55
        }
      ]
    },
    {
      "cell_type": "code",
      "source": [
        "#Using Zip\n",
        "days= [\"sunday\",\"monday\",\"tuesday\",\"wednesday\",\"thursday\",\"friday\",\"saturday\"]\n",
        "temp_c = [30.5,32.6,31.8,33.4,29.8,30.2,29.9]\n",
        "{i:j for (i,j) in zip(days,temp_c)}"
      ],
      "metadata": {
        "colab": {
          "base_uri": "https://localhost:8080/"
        },
        "id": "OSs34WHsRT1Z",
        "outputId": "11140cf1-8538-43b4-a6e8-18fde55f937b"
      },
      "execution_count": 58,
      "outputs": [
        {
          "output_type": "execute_result",
          "data": {
            "text/plain": [
              "{'sunday': 30.5,\n",
              " 'monday': 32.6,\n",
              " 'tuesday': 31.8,\n",
              " 'wednesday': 33.4,\n",
              " 'thursday': 29.8,\n",
              " 'friday': 30.2,\n",
              " 'saturday': 29.9}"
            ]
          },
          "metadata": {},
          "execution_count": 58
        }
      ]
    },
    {
      "cell_type": "code",
      "source": [
        "#using if condition\n",
        "products = {'phone' : 10,'laptop':0,'charger':32,'tablet':0}\n",
        "{key:value for (key,value) in products.items() if value>0}"
      ],
      "metadata": {
        "colab": {
          "base_uri": "https://localhost:8080/"
        },
        "id": "Gj9DSx6vRTyp",
        "outputId": "1f83d9be-e075-4d6b-fd48-66da46975a4f"
      },
      "execution_count": 59,
      "outputs": [
        {
          "output_type": "execute_result",
          "data": {
            "text/plain": [
              "{'phone': 10, 'charger': 32}"
            ]
          },
          "metadata": {},
          "execution_count": 59
        }
      ]
    },
    {
      "cell_type": "code",
      "source": [
        "#Nested comprehension\n",
        "#print tables of number from 2 to 4\n",
        "for i in range(2,5):\n",
        "  print({j:i*j for j in range(1,11)})"
      ],
      "metadata": {
        "colab": {
          "base_uri": "https://localhost:8080/"
        },
        "id": "2gjqlX_HThul",
        "outputId": "a2569cfc-c1c4-41c0-9544-2dbe2b8f9e91"
      },
      "execution_count": 63,
      "outputs": [
        {
          "output_type": "stream",
          "name": "stdout",
          "text": [
            "{1: 2, 2: 4, 3: 6, 4: 8, 5: 10, 6: 12, 7: 14, 8: 16, 9: 18, 10: 20}\n",
            "{1: 3, 2: 6, 3: 9, 4: 12, 5: 15, 6: 18, 7: 21, 8: 24, 9: 27, 10: 30}\n",
            "{1: 4, 2: 8, 3: 12, 4: 16, 5: 20, 6: 24, 7: 28, 8: 32, 9: 36, 10: 40}\n"
          ]
        }
      ]
    },
    {
      "cell_type": "code",
      "source": [
        "{i:{j:i*j for j in range(1,11)} for i in range(2,5)}"
      ],
      "metadata": {
        "colab": {
          "base_uri": "https://localhost:8080/"
        },
        "id": "LYRTZfY5URE2",
        "outputId": "16552d8a-040b-43a6-c496-a22c13cd6f59"
      },
      "execution_count": 65,
      "outputs": [
        {
          "output_type": "execute_result",
          "data": {
            "text/plain": [
              "{2: {1: 2, 2: 4, 3: 6, 4: 8, 5: 10, 6: 12, 7: 14, 8: 16, 9: 18, 10: 20},\n",
              " 3: {1: 3, 2: 6, 3: 9, 4: 12, 5: 15, 6: 18, 7: 21, 8: 24, 9: 27, 10: 30},\n",
              " 4: {1: 4, 2: 8, 3: 12, 4: 16, 5: 20, 6: 24, 7: 28, 8: 32, 9: 36, 10: 40}}"
            ]
          },
          "metadata": {},
          "execution_count": 65
        }
      ]
    },
    {
      "cell_type": "code",
      "source": [
        "{\n",
        "    2:{i:i*2 for i in range(1,11)},\n",
        "    3:{i:i*3 for i in range(1,11)},\n",
        "    4:{i:i*4 for i in range(1,11)}\n",
        "}"
      ],
      "metadata": {
        "colab": {
          "base_uri": "https://localhost:8080/"
        },
        "id": "gDsuydpVThm0",
        "outputId": "cd74c2e2-445d-4b60-e91f-8322c593e1d3"
      },
      "execution_count": 60,
      "outputs": [
        {
          "output_type": "execute_result",
          "data": {
            "text/plain": [
              "{2: {1: 2, 2: 4, 3: 6, 4: 8, 5: 10, 6: 12, 7: 14, 8: 16, 9: 18, 10: 20},\n",
              " 3: {1: 3, 2: 6, 3: 9, 4: 12, 5: 15, 6: 18, 7: 21, 8: 24, 9: 27, 10: 30},\n",
              " 4: {1: 4, 2: 8, 3: 12, 4: 16, 5: 20, 6: 24, 7: 28, 8: 32, 9: 36, 10: 40}}"
            ]
          },
          "metadata": {},
          "execution_count": 60
        }
      ]
    },
    {
      "cell_type": "code",
      "source": [
        "for i in range(1,11):\n",
        "  print(i*2)"
      ],
      "metadata": {
        "colab": {
          "base_uri": "https://localhost:8080/"
        },
        "id": "dleFc3hpTgBz",
        "outputId": "c5402240-8d32-4d2d-bc0d-3b2f527c0b02"
      },
      "execution_count": 61,
      "outputs": [
        {
          "output_type": "stream",
          "name": "stdout",
          "text": [
            "2\n",
            "4\n",
            "6\n",
            "8\n",
            "10\n",
            "12\n",
            "14\n",
            "16\n",
            "18\n",
            "20\n"
          ]
        }
      ]
    },
    {
      "cell_type": "code",
      "source": [],
      "metadata": {
        "id": "D9aUATq9T8Zw"
      },
      "execution_count": null,
      "outputs": []
    }
  ]
}