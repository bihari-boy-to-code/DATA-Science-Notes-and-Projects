{
  "nbformat": 4,
  "nbformat_minor": 0,
  "metadata": {
    "colab": {
      "provenance": [],
      "authorship_tag": "ABX9TyOgNI1fx0RnfPCPrmvjkrYJ",
      "include_colab_link": true
    },
    "kernelspec": {
      "name": "python3",
      "display_name": "Python 3"
    },
    "language_info": {
      "name": "python"
    }
  },
  "cells": [
    {
      "cell_type": "markdown",
      "metadata": {
        "id": "view-in-github",
        "colab_type": "text"
      },
      "source": [
        "<a href=\"https://colab.research.google.com/github/bihari-boy-to-code/DATA-Science-Notes-and-Projects/blob/main/Functions.ipynb\" target=\"_parent\"><img src=\"https://colab.research.google.com/assets/colab-badge.svg\" alt=\"Open In Colab\"/></a>"
      ]
    },
    {
      "cell_type": "code",
      "execution_count": null,
      "metadata": {
        "colab": {
          "base_uri": "https://localhost:8080/"
        },
        "id": "HlMaeZ4logZf",
        "outputId": "69832e33-b382-4004-e110-738b87ad06bd"
      },
      "outputs": [
        {
          "output_type": "stream",
          "name": "stdout",
          "text": [
            "hello\n"
          ]
        }
      ],
      "source": [
        "print(\"hello\")"
      ]
    },
    {
      "cell_type": "markdown",
      "source": [
        "# function with docStiring\n"
      ],
      "metadata": {
        "id": "Y7qMqOyWqfLt"
      }
    },
    {
      "cell_type": "code",
      "source": [
        "# function is a block of code .\n",
        "# code resuability\n",
        "## ABSTRACTION\n",
        "### DECOMPOSTION\n"
      ],
      "metadata": {
        "id": "9aaSfVmIoq7o"
      },
      "execution_count": null,
      "outputs": []
    },
    {
      "cell_type": "code",
      "source": [
        "## Let's create a function\n",
        "def is_even(num):\n",
        "  \"\"\"\n",
        "  this function returns if a given number is odd or even\n",
        "  input - any valid integer\n",
        "  output - odd/even\n",
        "  \"\"\"\n",
        "  if num % 2 == 0:\n",
        "      return \"even\"\n",
        "  else:\n",
        "      return \"odd\"\n",
        "\n",
        "is_even(10)\n",
        "\n"
      ],
      "metadata": {
        "colab": {
          "base_uri": "https://localhost:8080/",
          "height": 36
        },
        "id": "9CMVR4FsrQj3",
        "outputId": "21b5f8b9-ca2d-4fb6-a2c4-fc97dfc2b5e3"
      },
      "execution_count": null,
      "outputs": [
        {
          "output_type": "execute_result",
          "data": {
            "text/plain": [
              "'even'"
            ],
            "application/vnd.google.colaboratory.intrinsic+json": {
              "type": "string"
            }
          },
          "metadata": {},
          "execution_count": 16
        }
      ]
    },
    {
      "cell_type": "code",
      "source": [
        "# TYPES OF ARGUMENT\n",
        "## Default argument\n",
        "### Positional argument\n",
        "#### Keyword argument"
      ],
      "metadata": {
        "id": "cTKxkOQ_rQst"
      },
      "execution_count": null,
      "outputs": []
    },
    {
      "cell_type": "code",
      "source": [
        "# Default argument\n",
        "def power(a = 1,b = 0):\n",
        "  return a**b\n",
        "\n",
        "power()"
      ],
      "metadata": {
        "colab": {
          "base_uri": "https://localhost:8080/"
        },
        "id": "0FFmEnRrvjsy",
        "outputId": "77ef70fe-28c7-4e2d-eedd-c8fa34a0f39a"
      },
      "execution_count": null,
      "outputs": [
        {
          "output_type": "execute_result",
          "data": {
            "text/plain": [
              "1"
            ]
          },
          "metadata": {},
          "execution_count": 20
        }
      ]
    },
    {
      "cell_type": "code",
      "source": [
        "### Positional argument\n",
        "power(2,3)"
      ],
      "metadata": {
        "colab": {
          "base_uri": "https://localhost:8080/"
        },
        "id": "L8trBaUXvjvq",
        "outputId": "0278282c-df90-4035-e168-62da799c02cc"
      },
      "execution_count": null,
      "outputs": [
        {
          "output_type": "execute_result",
          "data": {
            "text/plain": [
              "8"
            ]
          },
          "metadata": {},
          "execution_count": 21
        }
      ]
    },
    {
      "cell_type": "code",
      "source": [
        "####  Keyword argument\n",
        "power(b = 3,a = 2)"
      ],
      "metadata": {
        "colab": {
          "base_uri": "https://localhost:8080/"
        },
        "id": "ZI7lcDSvvjye",
        "outputId": "610a1784-0c05-4ed5-969e-f05f243d147b"
      },
      "execution_count": null,
      "outputs": [
        {
          "output_type": "execute_result",
          "data": {
            "text/plain": [
              "8"
            ]
          },
          "metadata": {},
          "execution_count": 22
        }
      ]
    },
    {
      "cell_type": "code",
      "source": [
        "# ARGS & Kwargs are special python keywords that are used to pass the variable length of a arguments to a function.\n",
        "# ARGS-----allows us to pass a variable number of non-keyword arguments to a function\n",
        "#* ARGS\n",
        "def multiply(*args):\n",
        "  product = 1\n",
        "\n",
        "  for i in args:\n",
        "    product = product * i\n",
        "\n",
        "  print(args)\n",
        "  return product\n",
        "\n",
        "multiply(2,3,3,2,1,4,6,9,0)"
      ],
      "metadata": {
        "colab": {
          "base_uri": "https://localhost:8080/"
        },
        "id": "m1jSdSXmvj1v",
        "outputId": "062b4c8f-5e8e-4ecb-942e-582dfeaf7715"
      },
      "execution_count": null,
      "outputs": [
        {
          "output_type": "stream",
          "name": "stdout",
          "text": [
            "(2, 3, 3, 2, 1, 4, 6, 9, 0)\n"
          ]
        },
        {
          "output_type": "execute_result",
          "data": {
            "text/plain": [
              "0"
            ]
          },
          "metadata": {},
          "execution_count": 26
        }
      ]
    },
    {
      "cell_type": "markdown",
      "source": [],
      "metadata": {
        "id": "ASMbf63czY2P"
      }
    },
    {
      "cell_type": "code",
      "source": [
        "from typing_extensions import NewType\n",
        "# Kwargs\n",
        "## ** kwargs allows us to pass any number of keyword argument\n",
        "# KeyWord arguments mean that they contain a key - value pair, like a python dictionary ,\n",
        "\n",
        "def display(**kwargs):\n",
        "\n",
        "  for (key,value) in kwargs.items():\n",
        "    print(key, '->', value)\n",
        "\n",
        "display(india = \"delhi\", srilanka = \"colombo\" , nepal = \"kathmandu\")"
      ],
      "metadata": {
        "colab": {
          "base_uri": "https://localhost:8080/"
        },
        "id": "kZN5McuLvj5L",
        "outputId": "70b2a795-94fb-46df-9728-efa381eac6a9"
      },
      "execution_count": null,
      "outputs": [
        {
          "output_type": "stream",
          "name": "stdout",
          "text": [
            "india -> delhi\n",
            "srilanka -> colombo\n",
            "nepal -> kathmandu\n"
          ]
        }
      ]
    },
    {
      "cell_type": "code",
      "source": [
        "# without return statement\n",
        "def is_even(num):\n",
        "  if num % 2 == 0:\n",
        "    print(\"even\")\n",
        "  else:\n",
        "    print(\"odd\")\n",
        "\n",
        "\n"
      ],
      "metadata": {
        "id": "radkoEy108EK"
      },
      "execution_count": null,
      "outputs": []
    },
    {
      "cell_type": "code",
      "source": [
        "## Variable scope\n",
        "def g(y):  ## GLOBAL VARIABLE\n",
        "  print(X)\n",
        "  print(X+1)\n",
        "X = 5\n",
        "g(X)\n",
        "print(X)"
      ],
      "metadata": {
        "colab": {
          "base_uri": "https://localhost:8080/"
        },
        "id": "cE-VlIpG1Aqe",
        "outputId": "1b5ed4a7-e158-4801-90dc-3d11ccda5b41"
      },
      "execution_count": null,
      "outputs": [
        {
          "output_type": "stream",
          "name": "stdout",
          "text": [
            "5\n",
            "6\n",
            "5\n"
          ]
        }
      ]
    },
    {
      "cell_type": "code",
      "source": [
        "def f(x):\n",
        "  x = x+1\n",
        "  print('in f(x): x = ', x)\n",
        "  return x\n",
        "\n",
        "x = 3\n",
        "z = f(x)\n",
        "print('in main program scope: z = ', z)\n",
        "print('in main program scope: x = ', x)"
      ],
      "metadata": {
        "colab": {
          "base_uri": "https://localhost:8080/"
        },
        "id": "RiGTOqWl8bG0",
        "outputId": "dbdecb9e-80d7-4bba-a675-b600e059d7a9"
      },
      "execution_count": null,
      "outputs": [
        {
          "output_type": "stream",
          "name": "stdout",
          "text": [
            "in f(x): x =  4\n",
            "in main program scope: z =  4\n",
            "in main program scope: x =  3\n"
          ]
        }
      ]
    },
    {
      "cell_type": "code",
      "source": [
        "## NESTED FUNCTION\n",
        "\n",
        "def g(x):\n",
        "  def h():\n",
        "    x = 'abc'\n",
        "  x = x + 1\n",
        "  print('in g(x): x = ', x)\n",
        "  h()\n",
        "  return x\n",
        "\n",
        "x = 3\n",
        "z = g(x)\n"
      ],
      "metadata": {
        "colab": {
          "base_uri": "https://localhost:8080/"
        },
        "id": "_CbwHs4D1AtM",
        "outputId": "a038db9c-67b7-40d9-fa0f-f556038d86c8"
      },
      "execution_count": null,
      "outputs": [
        {
          "output_type": "stream",
          "name": "stdout",
          "text": [
            "in g(x): x =  4\n"
          ]
        }
      ]
    },
    {
      "cell_type": "code",
      "source": [
        "### functions are 1st class citizens\n",
        "# type and id\n",
        "def square(num):\n",
        "  return num **2\n",
        "\n",
        "type(square)\n",
        "id(square)"
      ],
      "metadata": {
        "colab": {
          "base_uri": "https://localhost:8080/"
        },
        "id": "1bxozj_q1Awl",
        "outputId": "7a8bfedb-61e9-4bfd-fc75-4ae1723b17ca"
      },
      "execution_count": null,
      "outputs": [
        {
          "output_type": "execute_result",
          "data": {
            "text/plain": [
              "136907666224800"
            ]
          },
          "metadata": {},
          "execution_count": 51
        }
      ]
    },
    {
      "cell_type": "code",
      "source": [
        "# REASSIGN\n",
        "x = square\n",
        "id(x)"
      ],
      "metadata": {
        "colab": {
          "base_uri": "https://localhost:8080/"
        },
        "id": "jVuiySEH1Az1",
        "outputId": "74084b09-abf1-46fc-9710-b81fd7a5851c"
      },
      "execution_count": null,
      "outputs": [
        {
          "output_type": "execute_result",
          "data": {
            "text/plain": [
              "136907666224800"
            ]
          },
          "metadata": {},
          "execution_count": 55
        }
      ]
    },
    {
      "cell_type": "code",
      "source": [
        "# DELETING A FUNCTION\n",
        "del square"
      ],
      "metadata": {
        "id": "vSeOmZryA8LJ"
      },
      "execution_count": null,
      "outputs": []
    },
    {
      "cell_type": "code",
      "source": [],
      "metadata": {
        "id": "1iQlP2gMB2Fz"
      },
      "execution_count": null,
      "outputs": []
    },
    {
      "cell_type": "code",
      "source": [
        "s = {square}"
      ],
      "metadata": {
        "colab": {
          "base_uri": "https://localhost:8080/",
          "height": 141
        },
        "id": "VqRC0KA-BvCf",
        "outputId": "dc030b16-d086-4e2b-8bbb-47bbfeb7a8bb"
      },
      "execution_count": null,
      "outputs": [
        {
          "output_type": "error",
          "ename": "NameError",
          "evalue": "name 'square' is not defined",
          "traceback": [
            "\u001b[0;31m---------------------------------------------------------------------------\u001b[0m",
            "\u001b[0;31mNameError\u001b[0m                                 Traceback (most recent call last)",
            "\u001b[0;32m/tmp/ipython-input-631923655.py\u001b[0m in \u001b[0;36m<cell line: 0>\u001b[0;34m()\u001b[0m\n\u001b[0;32m----> 1\u001b[0;31m \u001b[0ms\u001b[0m \u001b[0;34m=\u001b[0m \u001b[0;34m{\u001b[0m\u001b[0msquare\u001b[0m\u001b[0;34m}\u001b[0m\u001b[0;34m\u001b[0m\u001b[0;34m\u001b[0m\u001b[0m\n\u001b[0m",
            "\u001b[0;31mNameError\u001b[0m: name 'square' is not defined"
          ]
        }
      ]
    },
    {
      "cell_type": "code",
      "source": [
        "## RETU:RNING A FUNCTION\n",
        "def f():\n",
        "  def x(a,b):\n",
        "    return a+b\n",
        "  return x\n",
        "\n",
        "val = f()(3,4)\n",
        "print(val)\n"
      ],
      "metadata": {
        "colab": {
          "base_uri": "https://localhost:8080/"
        },
        "id": "jpSyMvUpBF70",
        "outputId": "07692d3f-08c1-4d0a-f268-a2933acd852f"
      },
      "execution_count": null,
      "outputs": [
        {
          "output_type": "stream",
          "name": "stdout",
          "text": [
            "7\n"
          ]
        }
      ]
    },
    {
      "cell_type": "code",
      "source": [
        "## FUNCTION as argument\n",
        "def func_a():\n",
        "  print('inside func_a')\n",
        "\n",
        "def func_c(z):\n",
        "  print('inside func_c')\n",
        "  return z()\n",
        "\n",
        "print(func_c(func_a))"
      ],
      "metadata": {
        "colab": {
          "base_uri": "https://localhost:8080/"
        },
        "id": "rrdpNXYRBF-I",
        "outputId": "e4e7e264-9882-42b9-e40b-a90dd63e9549"
      },
      "execution_count": null,
      "outputs": [
        {
          "output_type": "stream",
          "name": "stdout",
          "text": [
            "inside func_c\n",
            "inside func_a\n",
            "None\n"
          ]
        }
      ]
    },
    {
      "cell_type": "code",
      "source": [
        "a = lambda x:x**2\n",
        "a"
      ],
      "metadata": {
        "colab": {
          "base_uri": "https://localhost:8080/"
        },
        "id": "zNlYnAHJBGAW",
        "outputId": "c2f6d175-7f90-4e8f-a0f2-85446bc5dd11"
      },
      "execution_count": null,
      "outputs": [
        {
          "output_type": "execute_result",
          "data": {
            "text/plain": [
              "<function __main__.<lambda>(x)>"
            ]
          },
          "metadata": {},
          "execution_count": 65
        }
      ]
    },
    {
      "cell_type": "code",
      "source": [
        "b = lambda x,y:x+y\n",
        "b(2,3)"
      ],
      "metadata": {
        "colab": {
          "base_uri": "https://localhost:8080/"
        },
        "id": "HN_WNPs8BGES",
        "outputId": "03b747c0-8d5c-40cd-840e-e98ee5068369"
      },
      "execution_count": null,
      "outputs": [
        {
          "output_type": "execute_result",
          "data": {
            "text/plain": [
              "5"
            ]
          },
          "metadata": {},
          "execution_count": 66
        }
      ]
    },
    {
      "cell_type": "code",
      "source": [
        "## HIGH ORDER FUNCTION"
      ],
      "metadata": {
        "id": "vz7lLH8cE94u"
      },
      "execution_count": null,
      "outputs": []
    },
    {
      "cell_type": "code",
      "source": [
        "# EXAMPLE\n",
        "def square(x):\n",
        "  return x**2\n",
        "\n",
        "def transform(f,l):\n",
        "  output = []\n",
        "  for i in l:\n",
        "    output.append(f(i))\n",
        "  print(output)\n",
        "\n",
        "l = [1,2,3,4,5]\n",
        "transform(square,l)"
      ],
      "metadata": {
        "colab": {
          "base_uri": "https://localhost:8080/"
        },
        "id": "EWwJzTH1E97E",
        "outputId": "d05dc5fc-9ee2-4b0d-b0f8-c3429517ffb7"
      },
      "execution_count": null,
      "outputs": [
        {
          "output_type": "stream",
          "name": "stdout",
          "text": [
            "[1, 4, 9, 16, 25]\n"
          ]
        }
      ]
    },
    {
      "cell_type": "code",
      "source": [
        "##### MAP"
      ],
      "metadata": {
        "id": "Olb9qmWNE99X"
      },
      "execution_count": null,
      "outputs": []
    },
    {
      "cell_type": "code",
      "source": [
        "list(map(lambda x:x**2,[1,2,3,4,5]))"
      ],
      "metadata": {
        "colab": {
          "base_uri": "https://localhost:8080/"
        },
        "id": "PS6U31svE9_o",
        "outputId": "10482ee6-01af-4597-8b8c-86ed817b816a"
      },
      "execution_count": null,
      "outputs": [
        {
          "output_type": "execute_result",
          "data": {
            "text/plain": [
              "[1, 4, 9, 16, 25]"
            ]
          },
          "metadata": {},
          "execution_count": 72
        }
      ]
    },
    {
      "cell_type": "code",
      "source": [
        "l = [1,2,3,4,5]\n",
        "list(map(lambda x:'even' if x%2 == 0 else 'odd',l))"
      ],
      "metadata": {
        "colab": {
          "base_uri": "https://localhost:8080/"
        },
        "id": "WgivzX9EE-B0",
        "outputId": "d8ede5dd-9280-4b18-b2c4-fb57e96b0969"
      },
      "execution_count": null,
      "outputs": [
        {
          "output_type": "execute_result",
          "data": {
            "text/plain": [
              "['odd', 'even', 'odd', 'even', 'odd']"
            ]
          },
          "metadata": {},
          "execution_count": 73
        }
      ]
    },
    {
      "cell_type": "code",
      "source": [
        "## FILTER\n",
        "#number greater than 5\n",
        "l = [3,4,5,6,7]\n",
        "list(filter(lambda x: x>5,l))\n"
      ],
      "metadata": {
        "colab": {
          "base_uri": "https://localhost:8080/"
        },
        "id": "gCsAXUuXE-EW",
        "outputId": "d8e708ca-5557-4192-b43b-8a7c850a6d20"
      },
      "execution_count": null,
      "outputs": [
        {
          "output_type": "execute_result",
          "data": {
            "text/plain": [
              "[6, 7]"
            ]
          },
          "metadata": {},
          "execution_count": 75
        }
      ]
    },
    {
      "cell_type": "code",
      "source": [
        "## FETCH FRUITS STARTING  WITH \"A\"\n",
        "\n",
        "fruits = [\"apples\",\"guava\", \"cherry\"]\n",
        "list(filter(lambda x:x.startswith('a'),fruits))"
      ],
      "metadata": {
        "colab": {
          "base_uri": "https://localhost:8080/"
        },
        "id": "u_ARVG7dGysm",
        "outputId": "0387137d-ce92-41f1-ba22-2fa8d962e7ea"
      },
      "execution_count": null,
      "outputs": [
        {
          "output_type": "execute_result",
          "data": {
            "text/plain": [
              "['apples']"
            ]
          },
          "metadata": {},
          "execution_count": 77
        }
      ]
    },
    {
      "cell_type": "code",
      "source": [
        "## REDUCCE"
      ],
      "metadata": {
        "id": "DcbbsG7GGywF"
      },
      "execution_count": null,
      "outputs": []
    },
    {
      "cell_type": "code",
      "source": [
        "## SUM OF ALL ITEMS\n",
        "import functools\n",
        "functools.reduce(lambda x,y:x+y,[1,2,3,4,5])"
      ],
      "metadata": {
        "colab": {
          "base_uri": "https://localhost:8080/"
        },
        "id": "AMegKyNPGyzu",
        "outputId": "9e8fe0cf-320f-4415-8900-f245ddaea3c5"
      },
      "execution_count": null,
      "outputs": [
        {
          "output_type": "execute_result",
          "data": {
            "text/plain": [
              "15"
            ]
          },
          "metadata": {},
          "execution_count": 78
        }
      ]
    },
    {
      "cell_type": "code",
      "source": [
        "# find min\n",
        "functools.reduce(lambda x,y:x if x>y else y,[1,2,3,4,5])"
      ],
      "metadata": {
        "colab": {
          "base_uri": "https://localhost:8080/"
        },
        "id": "JoVnZkyuGy3U",
        "outputId": "36f645b4-3d20-4a09-ccbd-0d16446fd311"
      },
      "execution_count": null,
      "outputs": [
        {
          "output_type": "execute_result",
          "data": {
            "text/plain": [
              "5"
            ]
          },
          "metadata": {},
          "execution_count": 79
        }
      ]
    },
    {
      "cell_type": "code",
      "source": [],
      "metadata": {
        "id": "9zZVjLxxHzmx"
      },
      "execution_count": null,
      "outputs": []
    }
  ]
}