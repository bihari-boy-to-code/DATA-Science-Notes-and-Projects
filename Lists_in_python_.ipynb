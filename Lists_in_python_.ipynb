{
  "nbformat": 4,
  "nbformat_minor": 0,
  "metadata": {
    "colab": {
      "provenance": [],
      "authorship_tag": "ABX9TyN/hltn59TCLzneczC/ftWU",
      "include_colab_link": true
    },
    "kernelspec": {
      "name": "python3",
      "display_name": "Python 3"
    },
    "language_info": {
      "name": "python"
    }
  },
  "cells": [
    {
      "cell_type": "markdown",
      "metadata": {
        "id": "view-in-github",
        "colab_type": "text"
      },
      "source": [
        "<a href=\"https://colab.research.google.com/github/bihari-boy-to-code/DATA-Science-Notes-and-Projects/blob/main/Lists_in_python_.ipynb\" target=\"_parent\"><img src=\"https://colab.research.google.com/assets/colab-badge.svg\" alt=\"Open In Colab\"/></a>"
      ]
    },
    {
      "cell_type": "code",
      "execution_count": 4,
      "metadata": {
        "id": "nmXiUg5WpBFD"
      },
      "outputs": [],
      "source": [
        "## LISTS\n",
        "# List is a data types where you can store multiple items under 1 name.lists act like dynamic arrays which means you can add more items on the fly\n",
        "# list -> [1,2,3,4]\n",
        "\n"
      ]
    },
    {
      "cell_type": "markdown",
      "source": [
        "# Array VS LIST\n",
        "\n",
        "\n",
        "*   Fixed Vs dynamic Size\n",
        "*   Convenicece -> Hetrogeneous(any types of data)\n",
        "*   Speed of Execution\n",
        "*   memory\n",
        "\n",
        "\n",
        "\n"
      ],
      "metadata": {
        "id": "NRijwtadrmc4"
      }
    },
    {
      "cell_type": "code",
      "source": [
        "l = [1,2,3]\n",
        "print(id(l))\n",
        "print(id(l[0]))\n",
        "print(id(l[1]))\n",
        "print(id(l[2]))\n"
      ],
      "metadata": {
        "colab": {
          "base_uri": "https://localhost:8080/"
        },
        "id": "Lg1BVxr8qhWU",
        "outputId": "9d7f64d9-b052-4c9d-e0ea-ba8a6b5a8351"
      },
      "execution_count": 7,
      "outputs": [
        {
          "output_type": "stream",
          "name": "stdout",
          "text": [
            "132913723696384\n",
            "11642088\n",
            "11642120\n",
            "11642152\n"
          ]
        }
      ]
    },
    {
      "cell_type": "code",
      "source": [
        "# Containn any kind of objects in python"
      ],
      "metadata": {
        "id": "I-Qkq61pu8Pk"
      },
      "execution_count": 8,
      "outputs": []
    },
    {
      "cell_type": "code",
      "source": [
        "## CREATING A LIST\n",
        "\n",
        "# EMPTY LIST\n",
        "print([])\n",
        "# 1D list\n",
        "print([1,2,3])\n",
        "# 2D list\n",
        "print([[1,2],[3,4]])\n",
        "# 3D list\n",
        "print([[[1,2],[3,4],[5,6],[7,8]]])\n",
        "#HETROGENOUS list\n",
        "print([1,True,5.6])\n",
        "# USING TYPE CONVERSION\n",
        "print(list(\"hello\"))"
      ],
      "metadata": {
        "colab": {
          "base_uri": "https://localhost:8080/"
        },
        "id": "7Pwa8gB6xcjJ",
        "outputId": "b75fdd5d-263f-4d92-f606-3683746c368d"
      },
      "execution_count": 10,
      "outputs": [
        {
          "output_type": "stream",
          "name": "stdout",
          "text": [
            "[]\n",
            "[1, 2, 3]\n",
            "[[1, 2], [3, 4]]\n",
            "[[[1, 2], [3, 4], [5, 6], [7, 8]]]\n",
            "[1, True, 5.6]\n",
            "['h', 'e', 'l', 'l', 'o']\n"
          ]
        }
      ]
    },
    {
      "cell_type": "code",
      "source": [
        "## Accessing items from a list\n",
        "#INDEXING\n",
        "# l = [[[1,2],[3,4]], [[5,6],[7,8]]]\n",
        "# print(l[0][0][1])\n",
        "# print(l[-1][-2][-2])\n",
        "\n",
        "#SLICING\n",
        "l = [1,2,3,4,5,6]\n",
        "print(l[-5:-2:3])\n",
        "\n",
        "\n",
        "\n"
      ],
      "metadata": {
        "colab": {
          "base_uri": "https://localhost:8080/"
        },
        "id": "qszEcFQwx0dH",
        "outputId": "a4035471-0b9a-4e23-ea5e-8ad668db2246"
      },
      "execution_count": 53,
      "outputs": [
        {
          "output_type": "stream",
          "name": "stdout",
          "text": [
            "[2]\n"
          ]
        }
      ]
    },
    {
      "cell_type": "code",
      "source": [],
      "metadata": {
        "id": "YwKETstZzGc3"
      },
      "execution_count": null,
      "outputs": []
    },
    {
      "cell_type": "markdown",
      "source": [
        "**ADDING ITEMS to a list**"
      ],
      "metadata": {
        "id": "zvgk2yft2Edo"
      }
    },
    {
      "cell_type": "code",
      "source": [
        "#append\n",
        "l = [1,2,3,4,5]\n",
        "l.append(6)\n",
        "print(l)\n"
      ],
      "metadata": {
        "colab": {
          "base_uri": "https://localhost:8080/"
        },
        "id": "jMFjaE9_2JL5",
        "outputId": "9d2b132c-5b9a-4ed0-9611-2ffb3e1aebff"
      },
      "execution_count": 58,
      "outputs": [
        {
          "output_type": "stream",
          "name": "stdout",
          "text": [
            "[1, 2, 3, 4, 5, 6]\n"
          ]
        }
      ]
    },
    {
      "cell_type": "code",
      "source": [
        "#extend\n",
        "l = [1,2,3,4,5]\n",
        "l.extend([6,7,8,9,10])\n",
        "print(l)"
      ],
      "metadata": {
        "colab": {
          "base_uri": "https://localhost:8080/"
        },
        "id": "lg_hQZbF2Mu0",
        "outputId": "28d8f1ee-a26e-4722-bceb-becd8ea21774"
      },
      "execution_count": 57,
      "outputs": [
        {
          "output_type": "stream",
          "name": "stdout",
          "text": [
            "[1, 2, 3, 4, 5, 6, 7, 8, 9, 10]\n"
          ]
        }
      ]
    },
    {
      "cell_type": "code",
      "source": [
        "#insert\n",
        "l = [1,2,3,4,5]\n",
        "l.insert(4,200)\n",
        "print(l)"
      ],
      "metadata": {
        "colab": {
          "base_uri": "https://localhost:8080/"
        },
        "id": "fU4CfsZp2csk",
        "outputId": "9e8f225f-4faa-4c62-b216-afb2babc0b20"
      },
      "execution_count": 60,
      "outputs": [
        {
          "output_type": "stream",
          "name": "stdout",
          "text": [
            "[1, 2, 3, 4, 200, 5]\n"
          ]
        }
      ]
    },
    {
      "cell_type": "markdown",
      "source": [
        "**Editing items in list**"
      ],
      "metadata": {
        "id": "sYJDuLfR3E4M"
      }
    },
    {
      "cell_type": "code",
      "source": [
        "l =  [1,2,3,4,5]\n",
        "#editing with indexing\n",
        "l[1] = 500\n",
        "\n",
        "#Slicing editng\n",
        "l[1:4] = [200,300,400]\n",
        "print(l)"
      ],
      "metadata": {
        "colab": {
          "base_uri": "https://localhost:8080/"
        },
        "id": "0z7AuDg22-gB",
        "outputId": "8ed34880-1152-44ef-fe10-c0ae2d79448c"
      },
      "execution_count": 63,
      "outputs": [
        {
          "output_type": "stream",
          "name": "stdout",
          "text": [
            "[1, 200, 300, 400, 5]\n"
          ]
        }
      ]
    },
    {
      "cell_type": "markdown",
      "source": [
        "**Deletion in list**"
      ],
      "metadata": {
        "id": "zTDE9IA63yp5"
      }
    },
    {
      "cell_type": "code",
      "source": [
        "# del\n",
        "l = [1,2,3,4,5]\n",
        "print(l)\n",
        "del l[2]\n",
        "print(l)\n"
      ],
      "metadata": {
        "colab": {
          "base_uri": "https://localhost:8080/"
        },
        "id": "PlK5D3ox2-ij",
        "outputId": "fcd341fb-6dfd-479c-f3da-41801a80ba5e"
      },
      "execution_count": 65,
      "outputs": [
        {
          "output_type": "stream",
          "name": "stdout",
          "text": [
            "[1, 2, 3, 4, 5]\n",
            "[1, 2, 4, 5]\n"
          ]
        }
      ]
    },
    {
      "cell_type": "code",
      "source": [
        "# remove\n",
        "l = [1,2,3,4,5]\n",
        "l.remove(5)\n",
        "print(l)"
      ],
      "metadata": {
        "colab": {
          "base_uri": "https://localhost:8080/"
        },
        "id": "qmg6Q_H82-lO",
        "outputId": "8877c6bb-e2ea-4c92-d8bf-751caf4fdbd3"
      },
      "execution_count": 66,
      "outputs": [
        {
          "output_type": "stream",
          "name": "stdout",
          "text": [
            "[1, 2, 3, 4]\n"
          ]
        }
      ]
    },
    {
      "cell_type": "code",
      "source": [
        "# pop\n",
        "l = [1,2,3,4,5]\n",
        "l.pop()\n",
        "print(l)"
      ],
      "metadata": {
        "colab": {
          "base_uri": "https://localhost:8080/"
        },
        "id": "JA8WI5v72-n2",
        "outputId": "5eea1759-a955-45f4-a082-0da33b32eb03"
      },
      "execution_count": 68,
      "outputs": [
        {
          "output_type": "stream",
          "name": "stdout",
          "text": [
            "[1, 2, 3, 4]\n"
          ]
        }
      ]
    },
    {
      "cell_type": "code",
      "source": [
        "#clear\n",
        "l = [1,2,3,4,5]\n",
        "l.clear()\n",
        "print(l)"
      ],
      "metadata": {
        "colab": {
          "base_uri": "https://localhost:8080/"
        },
        "id": "GBzSYlcD2-qc",
        "outputId": "7ccc8433-aba5-4975-936d-670023e037b7"
      },
      "execution_count": 71,
      "outputs": [
        {
          "output_type": "stream",
          "name": "stdout",
          "text": [
            "[]\n"
          ]
        }
      ]
    },
    {
      "cell_type": "markdown",
      "source": [
        "**Opeartion'son list **\n",
        "\n",
        "\n",
        "*   Arthmetic\n",
        "*   Memebrship and loop\n",
        "\n"
      ],
      "metadata": {
        "id": "J4Jt8tnz40Nb"
      }
    },
    {
      "cell_type": "code",
      "source": [
        "# Arithmetic\n",
        "l1 = [1,2,3,4]\n",
        "l2 = [5,6,7,8]\n",
        "print(l1+l2)\n",
        "print(l1*3)"
      ],
      "metadata": {
        "colab": {
          "base_uri": "https://localhost:8080/"
        },
        "id": "il9fWogY2-t_",
        "outputId": "f02adbba-47b2-4597-9793-8487a0d80874"
      },
      "execution_count": 74,
      "outputs": [
        {
          "output_type": "stream",
          "name": "stdout",
          "text": [
            "[1, 2, 3, 4, 5, 6, 7, 8]\n",
            "[1, 2, 3, 4, 1, 2, 3, 4, 1, 2, 3, 4]\n"
          ]
        }
      ]
    },
    {
      "cell_type": "code",
      "source": [
        "# Membership\n",
        "l1 = [1,2,3,4]\n",
        "l2 = [1,2,3,4,[5,6]]\n",
        "\n",
        "print([5,6] in l2)\n",
        "print(6 not in l1)"
      ],
      "metadata": {
        "colab": {
          "base_uri": "https://localhost:8080/"
        },
        "id": "ZGHFKiTa2-xm",
        "outputId": "62b669b6-201c-4ea6-de61-9ac68c543a70"
      },
      "execution_count": 80,
      "outputs": [
        {
          "output_type": "stream",
          "name": "stdout",
          "text": [
            "True\n",
            "True\n"
          ]
        }
      ]
    },
    {
      "cell_type": "code",
      "source": [
        "#loop\n",
        "l1 = [1,2,3,4]\n",
        "l2 = [1,2,3,4,[5,6]]\n",
        "\n",
        "for i in l1:\n",
        "  print(i)\n",
        "\n",
        "for i in l2:\n",
        "  print(i)"
      ],
      "metadata": {
        "colab": {
          "base_uri": "https://localhost:8080/"
        },
        "id": "3VNo_Y7P5U07",
        "outputId": "390c1599-e25f-4f57-c531-d3a8735730e1"
      },
      "execution_count": 82,
      "outputs": [
        {
          "output_type": "stream",
          "name": "stdout",
          "text": [
            "1\n",
            "2\n",
            "3\n",
            "4\n",
            "[5, 6]\n"
          ]
        }
      ]
    },
    {
      "cell_type": "markdown",
      "source": [
        "**List Function**"
      ],
      "metadata": {
        "id": "367LUQm05xJO"
      }
    },
    {
      "cell_type": "code",
      "source": [
        "# len/max/min/sorted\n",
        "l = [1,2,3,4,5]\n",
        "\n",
        "print(len(l))\n",
        "print(max(l))\n",
        "print(min(l))\n",
        "print(sorted(l, reverse = True ))\n"
      ],
      "metadata": {
        "colab": {
          "base_uri": "https://localhost:8080/"
        },
        "id": "cas8CQX65Uxd",
        "outputId": "a2e24504-3f33-4050-d3fc-86ecfcd7b4c0"
      },
      "execution_count": 87,
      "outputs": [
        {
          "output_type": "stream",
          "name": "stdout",
          "text": [
            "5\n",
            "5\n",
            "1\n",
            "[5, 4, 3, 2, 1]\n"
          ]
        }
      ]
    },
    {
      "cell_type": "code",
      "source": [
        "# count\n",
        "l = [1,2,3,4,5,4,1,3]\n",
        "print(l.count(4))"
      ],
      "metadata": {
        "colab": {
          "base_uri": "https://localhost:8080/"
        },
        "id": "yJJuUq_Y5UuT",
        "outputId": "cc74ebf8-97f4-4438-d346-029d558d49db"
      },
      "execution_count": 91,
      "outputs": [
        {
          "output_type": "stream",
          "name": "stdout",
          "text": [
            "2\n"
          ]
        }
      ]
    },
    {
      "cell_type": "code",
      "source": [
        "# index\n",
        "l = [1,2,3,4,5,4,1,3]\n",
        "print(l.index(1))"
      ],
      "metadata": {
        "colab": {
          "base_uri": "https://localhost:8080/"
        },
        "id": "Qp7K1Nci5UrE",
        "outputId": "ce67e148-93cc-4992-d1dc-72e4b0f15e26"
      },
      "execution_count": 95,
      "outputs": [
        {
          "output_type": "stream",
          "name": "stdout",
          "text": [
            "0\n"
          ]
        }
      ]
    },
    {
      "cell_type": "code",
      "source": [
        "# reverse\n",
        "l = [1,2,3,4,5,4,1,3,0]\n",
        "l.reverse()\n",
        "print(l)"
      ],
      "metadata": {
        "colab": {
          "base_uri": "https://localhost:8080/"
        },
        "id": "GyRl_8iH5UoN",
        "outputId": "b4e2fd8c-5962-4e96-ab46-d814b4efc96d"
      },
      "execution_count": 97,
      "outputs": [
        {
          "output_type": "stream",
          "name": "stdout",
          "text": [
            "[0, 3, 1, 4, 5, 4, 3, 2, 1]\n"
          ]
        }
      ]
    },
    {
      "cell_type": "code",
      "source": [
        "# sort\n",
        "l = [1,2,3,4,0]\n",
        "print(l)\n",
        "print(sorted(l))\n",
        "print(l)\n",
        "l.sort()\n",
        "print(l)\n"
      ],
      "metadata": {
        "colab": {
          "base_uri": "https://localhost:8080/"
        },
        "id": "SN2vJChT5Uk6",
        "outputId": "e4feffbc-33b6-4797-9dfe-0f95e55ed363"
      },
      "execution_count": 99,
      "outputs": [
        {
          "output_type": "stream",
          "name": "stdout",
          "text": [
            "[1, 2, 3, 4, 0]\n",
            "[0, 1, 2, 3, 4]\n",
            "[1, 2, 3, 4, 0]\n",
            "[0, 1, 2, 3, 4]\n"
          ]
        }
      ]
    },
    {
      "cell_type": "code",
      "source": [
        "# copy -> shallow\n",
        "l = [1,2,3,4,0]\n",
        "print(l)\n",
        "print(id(l))\n",
        "l1 = l.copy()\n",
        "print(l1)\n",
        "print(id(l1))"
      ],
      "metadata": {
        "colab": {
          "base_uri": "https://localhost:8080/"
        },
        "id": "6dyg_TO05UiO",
        "outputId": "7772730c-bcc4-4b3e-91c0-56561e2c4c04"
      },
      "execution_count": 103,
      "outputs": [
        {
          "output_type": "stream",
          "name": "stdout",
          "text": [
            "[1, 2, 3, 4, 0]\n",
            "132913388305216\n",
            "[1, 2, 3, 4, 0]\n",
            "132913387415488\n"
          ]
        }
      ]
    },
    {
      "cell_type": "markdown",
      "source": [
        "**List Comprehension**"
      ],
      "metadata": {
        "id": "GA-d2vOT7Vlp"
      }
    },
    {
      "cell_type": "code",
      "source": [
        "# List comprehension provides a concise way of creating lists.\n",
        "#  newslist =[expression for item in iterable if condition == True]"
      ],
      "metadata": {
        "id": "7kaktig_2-03"
      },
      "execution_count": null,
      "outputs": []
    },
    {
      "cell_type": "code",
      "source": [
        "# Add 1 to 10 number to a list\n",
        "l = []\n",
        "for i in range(1,11):\n",
        "  l.append(i)\n",
        "print(l)"
      ],
      "metadata": {
        "colab": {
          "base_uri": "https://localhost:8080/"
        },
        "id": "6iHWaA-e8Sqr",
        "outputId": "e2fe4a04-a59e-4a93-e7f5-037be26100f5"
      },
      "execution_count": 104,
      "outputs": [
        {
          "output_type": "stream",
          "name": "stdout",
          "text": [
            "[1, 2, 3, 4, 5, 6, 7, 8, 9, 10]\n"
          ]
        }
      ]
    },
    {
      "cell_type": "code",
      "source": [
        "l = [i for i in range(1,11)]\n",
        "print(l)"
      ],
      "metadata": {
        "colab": {
          "base_uri": "https://localhost:8080/"
        },
        "id": "KR5dlJ7g8SnD",
        "outputId": "6a9daef1-dcbf-4fb6-a5a0-bc49993160e0"
      },
      "execution_count": 105,
      "outputs": [
        {
          "output_type": "stream",
          "name": "stdout",
          "text": [
            "[1, 2, 3, 4, 5, 6, 7, 8, 9, 10]\n"
          ]
        }
      ]
    },
    {
      "cell_type": "code",
      "source": [
        "#  Sclaer multiplication on a vector\n",
        "v = [2,3,4]\n",
        "s = 3\n",
        "[s*i for i in v]\n"
      ],
      "metadata": {
        "colab": {
          "base_uri": "https://localhost:8080/"
        },
        "id": "H0lZXAgh8SjR",
        "outputId": "82cb47f3-f95d-40ae-836c-722dda6d0263"
      },
      "execution_count": 114,
      "outputs": [
        {
          "output_type": "execute_result",
          "data": {
            "text/plain": [
              "[6, 9, 12]"
            ]
          },
          "metadata": {},
          "execution_count": 114
        }
      ]
    },
    {
      "cell_type": "code",
      "source": [
        "# add Square\n",
        "l =  [1,2,3,4,5]\n",
        "[i**2 for i  in l]\n"
      ],
      "metadata": {
        "colab": {
          "base_uri": "https://localhost:8080/"
        },
        "id": "_LDh4msn8SfX",
        "outputId": "ee8c01fb-150b-47ef-973e-6c4316f8eecb"
      },
      "execution_count": 132,
      "outputs": [
        {
          "output_type": "stream",
          "name": "stdout",
          "text": [
            "1\n",
            "2\n",
            "3\n",
            "4\n",
            "5\n"
          ]
        },
        {
          "output_type": "execute_result",
          "data": {
            "text/plain": [
              "[1, 4, 9, 16, 25]"
            ]
          },
          "metadata": {},
          "execution_count": 132
        }
      ]
    },
    {
      "cell_type": "code",
      "source": [
        "## PRINT all numberrs divisible by 5 in range of  1 to 50\n",
        "\n",
        "[i for i in range(1,51) if i%5 == 0]"
      ],
      "metadata": {
        "colab": {
          "base_uri": "https://localhost:8080/"
        },
        "id": "vUJP96yX8SbP",
        "outputId": "0484fb02-536b-4b84-d71f-5618d7bb300d"
      },
      "execution_count": 133,
      "outputs": [
        {
          "output_type": "execute_result",
          "data": {
            "text/plain": [
              "[5, 10, 15, 20, 25, 30, 35, 40, 45, 50]"
            ]
          },
          "metadata": {},
          "execution_count": 133
        }
      ]
    },
    {
      "cell_type": "code",
      "source": [
        "#find the languages which start with letter p\n",
        "languages =['java','python','php','c','javascript']\n",
        "[languages for languages in languages if languages.startswith('p')]"
      ],
      "metadata": {
        "colab": {
          "base_uri": "https://localhost:8080/"
        },
        "id": "GFXjVq068SXL",
        "outputId": "d1265fea-999c-43ea-c197-9f7dfd9ae4f9"
      },
      "execution_count": 137,
      "outputs": [
        {
          "output_type": "execute_result",
          "data": {
            "text/plain": [
              "['python', 'php']"
            ]
          },
          "metadata": {},
          "execution_count": 137
        }
      ]
    },
    {
      "cell_type": "code",
      "source": [
        "# Nested if with list comprehseion\n",
        "basket = ['apple','guava','cherry', 'banana']\n",
        "my_fruits = ['apple','kiwi','grapes','banana']\n",
        "#add new list from my_list and items if the fruit\n",
        "# exits in basket and also starts with 'a\n",
        "[fruit for fruit in my_fruits if fruit in basket if fruit.startswith('a')]"
      ],
      "metadata": {
        "colab": {
          "base_uri": "https://localhost:8080/"
        },
        "id": "BdLmIfZI8STo",
        "outputId": "a9b4069c-375f-4438-f1ac-19465c9256d0"
      },
      "execution_count": 138,
      "outputs": [
        {
          "output_type": "execute_result",
          "data": {
            "text/plain": [
              "['apple']"
            ]
          },
          "metadata": {},
          "execution_count": 138
        }
      ]
    },
    {
      "cell_type": "code",
      "source": [
        "# CARTIESIN PRODUCT\n",
        "l1  = [1,2,3,4]\n",
        "l2 = [5,6,7,8]\n",
        "[i*j for i in l1 for j in l2]"
      ],
      "metadata": {
        "colab": {
          "base_uri": "https://localhost:8080/"
        },
        "id": "Mctb3ox0BosO",
        "outputId": "d0dd754a-0351-4788-a64d-dfad3869b768"
      },
      "execution_count": 139,
      "outputs": [
        {
          "output_type": "execute_result",
          "data": {
            "text/plain": [
              "[5, 6, 7, 8, 10, 12, 14, 16, 15, 18, 21, 24, 20, 24, 28, 32]"
            ]
          },
          "metadata": {},
          "execution_count": 139
        }
      ]
    },
    {
      "cell_type": "markdown",
      "source": [
        "**2 Ways to traverse a list **\n",
        "\n",
        "*   itemwise\n",
        "*   indexwise\n",
        "\n"
      ],
      "metadata": {
        "id": "C3kQ1DLKCE_b"
      }
    },
    {
      "cell_type": "code",
      "source": [
        "# itemwise\n",
        "l = [1,2,3,4]\n",
        "for i in l:\n",
        "  print(i**3)"
      ],
      "metadata": {
        "colab": {
          "base_uri": "https://localhost:8080/"
        },
        "id": "B_pMvVnbBv3J",
        "outputId": "58987dc6-aac2-44ad-c833-2b4e575a5472"
      },
      "execution_count": 141,
      "outputs": [
        {
          "output_type": "stream",
          "name": "stdout",
          "text": [
            "1\n",
            "8\n",
            "27\n",
            "64\n"
          ]
        }
      ]
    },
    {
      "cell_type": "code",
      "source": [
        "#indexxwise\n",
        "\n",
        "l = [1,2,3,4]\n",
        "for i in range(0,len(l)):\n",
        "  print(l[i])"
      ],
      "metadata": {
        "colab": {
          "base_uri": "https://localhost:8080/"
        },
        "id": "oUco4WLUBv0_",
        "outputId": "3ae13c13-2bf2-4607-b96e-9ee0f1f8fe2b"
      },
      "execution_count": 145,
      "outputs": [
        {
          "output_type": "stream",
          "name": "stdout",
          "text": [
            "1\n",
            "2\n",
            "3\n",
            "4\n"
          ]
        }
      ]
    },
    {
      "cell_type": "markdown",
      "source": [
        "**Zip**"
      ],
      "metadata": {
        "id": "KTIP_EIzDfEH"
      }
    },
    {
      "cell_type": "code",
      "source": [
        "l1 = [1,2,3,4]\n",
        "l2 = [-1,-2,-3,4]\n",
        "\n",
        "list(zip(l1,l2))\n",
        "\n",
        "[i+j for i,j in zip(l1,l2)]"
      ],
      "metadata": {
        "colab": {
          "base_uri": "https://localhost:8080/"
        },
        "id": "7pni0pmHBvv2",
        "outputId": "00633c90-29d2-4ad6-bbe4-0305cf55ebdf"
      },
      "execution_count": 148,
      "outputs": [
        {
          "output_type": "execute_result",
          "data": {
            "text/plain": [
              "[0, 0, 0, 8]"
            ]
          },
          "metadata": {},
          "execution_count": 148
        }
      ]
    },
    {
      "cell_type": "code",
      "source": [
        "l = [1,2,print,type,input]\n",
        "print(l)"
      ],
      "metadata": {
        "colab": {
          "base_uri": "https://localhost:8080/"
        },
        "id": "BYFpRi_bBvs3",
        "outputId": "a382930d-3314-4a53-b827-77d5b35d508d"
      },
      "execution_count": 149,
      "outputs": [
        {
          "output_type": "stream",
          "name": "stdout",
          "text": [
            "[1, 2, <built-in function print>, <class 'type'>, <bound method Kernel.raw_input of <google.colab._kernel.Kernel object at 0x78e287739700>>]\n"
          ]
        }
      ]
    },
    {
      "cell_type": "markdown",
      "source": [
        "**Characterstics of a List **\n",
        "\n",
        "* Odered\n",
        "* Mutable\n",
        "* hetrogenoeus\n",
        "* can have duplicates\n",
        "* are dynamics\n",
        "* can be nested\n",
        "* items can be accessed\n",
        "* can contain any kind of objects in python\n",
        "\n"
      ],
      "metadata": {
        "id": "SW-pLDTEFUsw"
      }
    },
    {
      "cell_type": "markdown",
      "source": [],
      "metadata": {
        "id": "IzT8afB0FyM8"
      }
    }
  ]
}