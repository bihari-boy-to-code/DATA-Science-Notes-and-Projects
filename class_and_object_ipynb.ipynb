{
  "nbformat": 4,
  "nbformat_minor": 0,
  "metadata": {
    "colab": {
      "provenance": [],
      "authorship_tag": "ABX9TyMiAIhUbrydg7ef5f0wv7Ag",
      "include_colab_link": true
    },
    "kernelspec": {
      "name": "python3",
      "display_name": "Python 3"
    },
    "language_info": {
      "name": "python"
    }
  },
  "cells": [
    {
      "cell_type": "markdown",
      "metadata": {
        "id": "view-in-github",
        "colab_type": "text"
      },
      "source": [
        "<a href=\"https://colab.research.google.com/github/bihari-boy-to-code/DATA-Science-Notes-and-Projects/blob/main/class_and_object_ipynb.ipynb\" target=\"_parent\"><img src=\"https://colab.research.google.com/assets/colab-badge.svg\" alt=\"Open In Colab\"/></a>"
      ]
    },
    {
      "cell_type": "code",
      "source": [
        "l = 'hello'\n",
        "l.append('x')\n",
        "print(l)"
      ],
      "metadata": {
        "id": "7ahAjdsq-kBP"
      },
      "execution_count": null,
      "outputs": []
    },
    {
      "cell_type": "code",
      "source": [
        "l = [1,2,4]\n",
        "l.upper()"
      ],
      "metadata": {
        "id": "wPyubApq-j4A"
      },
      "execution_count": null,
      "outputs": []
    },
    {
      "cell_type": "code",
      "source": [
        "l = [1,2,3]\n",
        "print(type(l))"
      ],
      "metadata": {
        "id": "KDcDn8Ip_GyT"
      },
      "execution_count": null,
      "outputs": []
    },
    {
      "cell_type": "code",
      "source": [
        "# synatx to creatae object\n",
        "#objectname = classname()."
      ],
      "metadata": {
        "id": "7CLRbgB6_G3-"
      },
      "execution_count": null,
      "outputs": []
    },
    {
      "cell_type": "code",
      "source": [
        "# use pascal case name a class\n",
        "class atm:\n",
        "  # Constructor(special function) ->superpower->\n",
        "  def __init__(self):\n",
        "    self.pin = ''\n",
        "    self.balance = 0\n",
        "    self.menu()\n",
        "\n",
        "  def menu(self):\n",
        "    input(\"\"\"\n",
        "    hi, how can i help you?\n",
        "    1. press 1 to create pin\n",
        "    2. press 2 to change pin\n",
        "    3. press 3 to check balance\n",
        "    4. press 4 to withdraw\n",
        "    5. anything else to exit\n",
        "    \"\"\")\n",
        "  if input == '1' :\n",
        "    self.create_pin()\n",
        "  elif input == '2':\n",
        "    self.change_pin()\n",
        "  elif input == '3':\n",
        "    self.check_balance()\n",
        "  elif input == '4':\n",
        "    self.withdraw()\n",
        "  else:\n",
        "      exit()\n",
        "\n",
        "  def create_pin():\n",
        "    user_pin = input(\"enter your pin\")\n",
        "    self.pin = user_pin\n",
        "\n",
        "    user_balance = int(input(\"enter balance\"))\n",
        "    self.balance = user_balance\n",
        "\n",
        "    print(\"pin created successfully\")\n",
        "\n",
        "\n",
        "  def change_pin(self):\n",
        "    old_pin = input(\"enter old pin\")\n",
        "\n",
        "    if old_pin == self.pin:\n",
        "      # let him change the pin\n",
        "      new_pin = input(\"enter new pin\")\n",
        "      self.pin = new_pin\n",
        "      print(\"pin change successfully\")\n",
        "      self.menu()\n",
        "    else:\n",
        "      print(\"nai ho skta\")\n",
        "      self.menu()\n",
        "\n",
        "    def check_balance(self):\n",
        "      user_pin = input(\"enter yoru pin\")\n",
        "      if user_pin == self.pin:\n",
        "        print(\"your balance is \",self.balance)\n",
        "      else:\n",
        "        print(\"nai ho skta\")\n",
        "\n",
        "    def withdraw(self):\n",
        "      user_pin = input(\"enter the pin\")\n",
        "      if user_pin == self.pin:\n",
        "        # allow to withdraw\n",
        "        amount = int(input(\"enter the amount\"))\n",
        "        if amount <= self.balance:\n",
        "          self.balance = self.balance - amount\n",
        "          print(\"withdrawl successful.balance is\",self.balance)\n",
        "        else:\n",
        "          print(\"abe garib\")\n",
        "      else:\n",
        "        print(\"sale chor\")\n",
        "      self.menu()\n",
        "\n"
      ],
      "metadata": {
        "id": "gqDJzuy6Bd5s"
      },
      "execution_count": null,
      "outputs": []
    },
    {
      "cell_type": "code",
      "source": [
        "# CERATING object\n",
        "obj = atm()"
      ],
      "metadata": {
        "id": "ZMljCKrfBd9G"
      },
      "execution_count": null,
      "outputs": []
    },
    {
      "cell_type": "code",
      "source": [
        "# Fraction Class\n",
        "class fraction:\n",
        "\n",
        "  # Parameterized constructor\n",
        "  def __init__(self,x,y):\n",
        "    self.num = x\n",
        "    self.den = y\n",
        "\n",
        "  def __str__(self):\n",
        "    return '{}/{}'.format(self.num,self.den)\n",
        "\n",
        "  def __add__(self,other):\n",
        "    new_num = self.num*other.den + other.num*self.den\n",
        "    new_den = self.den*other.den\n",
        "\n",
        "    return '{}/{}'.format(new_num,new_den)\n",
        "\n",
        "  def __sub__(self,other):\n",
        "    new_num = self.num*other.den - other.num*self.den\n",
        "    new_den = self.den*other.den\n",
        "\n",
        "    return '{}/{}'.format(new_num,new_den)\n",
        "\n",
        "\n",
        "  def __mul__(self,other):\n",
        "    new_num = self.num*other.num\n",
        "    new_den = self.den*other.den\n",
        "\n",
        "    return '{}/{}'.format(new_num,new_den)\n",
        "\n",
        "\n",
        "  def __truediv__(self,other):\n",
        "    new_num = self.num*other.den\n",
        "    new_den = self.den*other.num\n",
        "\n",
        "    return '{}/{}'.format(new_num,new_den)\n",
        "\n",
        "  def convert_to_decimal(self):\n",
        "    return self.num/self.den\n",
        "\n",
        ""
      ],
      "metadata": {
        "id": "ucym9ge4_G6s"
      },
      "execution_count": 18,
      "outputs": []
    },
    {
      "cell_type": "code",
      "source": [
        "fr1 = fraction(3,4)\n",
        "fr2 = fraction(1,2)"
      ],
      "metadata": {
        "id": "mVTCaDVw_G9U"
      },
      "execution_count": 19,
      "outputs": []
    },
    {
      "cell_type": "code",
      "source": [
        "print(fr2)"
      ],
      "metadata": {
        "id": "K5I99eS3_HA5",
        "colab": {
          "base_uri": "https://localhost:8080/"
        },
        "outputId": "5879a9b9-3dd8-4bf0-960b-c4a412dca686"
      },
      "execution_count": 21,
      "outputs": [
        {
          "output_type": "stream",
          "name": "stdout",
          "text": [
            "1/2\n"
          ]
        }
      ]
    },
    {
      "cell_type": "code",
      "execution_count": 22,
      "metadata": {
        "id": "JyFE4b_T8yZa",
        "colab": {
          "base_uri": "https://localhost:8080/"
        },
        "outputId": "a41890d2-cbc4-4d48-e0d0-d3a5905ecb59"
      },
      "outputs": [
        {
          "output_type": "stream",
          "name": "stdout",
          "text": [
            "10/8\n"
          ]
        }
      ],
      "source": []
    },
    {
      "cell_type": "code",
      "source": [],
      "metadata": {
        "id": "9vsmejhn0Yi9"
      },
      "execution_count": null,
      "outputs": []
    },
    {
      "cell_type": "code",
      "source": [],
      "metadata": {
        "id": "52nZkk2N0YY8"
      },
      "execution_count": null,
      "outputs": []
    },
    {
      "cell_type": "code",
      "source": [],
      "metadata": {
        "id": "u5dsn9om0YRZ"
      },
      "execution_count": null,
      "outputs": []
    }
  ]
}